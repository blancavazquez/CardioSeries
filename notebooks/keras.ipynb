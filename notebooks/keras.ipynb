{
 "cells": [
  {
   "cell_type": "code",
   "execution_count": 1,
   "id": "df4d821d",
   "metadata": {},
   "outputs": [
    {
     "name": "stderr",
     "output_type": "stream",
     "text": [
      "2022-05-19 18:27:36.307873: I tensorflow/stream_executor/platform/default/dso_loader.cc:49] Successfully opened dynamic library libcudart.so.11.0\n"
     ]
    }
   ],
   "source": [
    "import os\n",
    "\n",
    "import numpy as np\n",
    "import pandas as pd\n",
    "from tslearn.metrics import dtw, dtw_path\n",
    "\n",
    "import tensorflow as tf\n",
    "#from tensorflow.keras import backend as k\n",
    "from tensorflow import keras\n",
    "\n",
    "#from keras import backend\n",
    "from tensorflow.keras import optimizers\n",
    "from tensorflow.keras.regularizers import l2\n",
    "from tensorflow.keras.models import Sequential\n",
    "from tensorflow.keras.initializers import TruncatedNormal\n",
    "from tensorflow.keras.callbacks import EarlyStopping, ModelCheckpoint\n",
    "from tensorflow.keras.layers import Conv1D, Input, Add, Activation, Dropout,Reshape\n",
    "\n",
    "def DC_CNN_Block(nb_filter, filter_length, dilation, l2_layer_reg,num_features):\n",
    "    def f(input_):\n",
    "        \n",
    "        #input = [batch_size,input_seqlength,num_features] (N,9,7) \n",
    "        residual= input_        \n",
    "        layer_out =   Conv1D(filters=nb_filter, kernel_size=filter_length, \n",
    "                      dilation_rate=dilation, \n",
    "                      activation='linear', padding='causal', use_bias=False,\n",
    "                      kernel_initializer=TruncatedNormal(mean=0.0, stddev=0.05, \n",
    "                      seed=42), kernel_regularizer=l2(l2_layer_reg))(input_)\n",
    "                    \n",
    "        layer_out =   Activation('selu')(layer_out)\n",
    "        \n",
    "        skip_out =    Conv1D(num_features,1, activation='linear', use_bias=False, \n",
    "                      kernel_initializer=TruncatedNormal(mean=0.0, stddev=0.05, \n",
    "                      seed=42), kernel_regularizer=l2(l2_layer_reg))(layer_out)\n",
    "        \n",
    "        network_in =  Conv1D(num_features,1, activation='linear', use_bias=False, \n",
    "                      kernel_initializer=TruncatedNormal(mean=0.0, stddev=0.05, \n",
    "                      seed=42), kernel_regularizer=l2(l2_layer_reg))(layer_out)\n",
    "                      \n",
    "        network_out = Add()([residual, network_in])\n",
    "        \n",
    "        return network_out, skip_out\n",
    "    \n",
    "    return f\n",
    "\n",
    "def DC_CNN_Model(input_seq_length,num_features): #length [6], num_features[7]\n",
    "    input = Input(shape=(input_seq_length,num_features))\n",
    "    l1a, l1b = DC_CNN_Block(32,2,1,0.001,num_features)(input)   #listo\n",
    "    l2a, l2b = DC_CNN_Block(32,2,2,0.001,num_features)(l1a)\n",
    "    l3a, l3b = DC_CNN_Block(32,2,4,0.001,num_features)(l2a)\n",
    "    l4a, l4b = DC_CNN_Block(32,2,8,0.001,num_features)(l3a)\n",
    "    l5a, l5b = DC_CNN_Block(32,2,16,0.001,num_features)(l4a)\n",
    "    l6a, l6b = DC_CNN_Block(32,2,32,0.001,num_features)(l5a)\n",
    "    l6b = Dropout(0.8)(l6b) #dropout used to limit influence of earlier data\n",
    "    l7a, l7b = DC_CNN_Block(32,2,64,0.001,num_features)(l6a)\n",
    "    l7b = Dropout(0.8)(l7b) #dropout used to limit influence of earlier data\n",
    "    l8 =   Add()([l1b, l2b, l3b, l4b, l5b, l6b, l7b])\n",
    "    l9 =   Activation('relu')(l8)\n",
    "    \n",
    "    kernel_size = 7 if input_seq_length ==9 else 1\n",
    "    l21 =  Conv1D(num_features,kernel_size, activation='linear', use_bias=False, \n",
    "           kernel_initializer=TruncatedNormal(mean=0.0, stddev=0.05, seed=42),\n",
    "           kernel_regularizer=l2(0.001))(l9)\n",
    "\n",
    "    model = keras.Model(inputs=input, outputs=l21)\n",
    "    adam = optimizers.Adam(lr=0.00075,beta_1=0.9, beta_2=0.999,decay=0.0,)\n",
    "    model.compile(loss=rmse,optimizer=adam,metrics=[rmse,'mae'])\n",
    "\n",
    "    return model\n",
    "\n",
    "def forecasting_dcnn(train_seqs,train_targets,val_seqs,val_targets,\n",
    "                     input_seq_length,output_seq_length,num_features,\n",
    "                     num_epochs,batch_size,path):\n",
    "\n",
    "    model = DC_CNN_Model(input_seq_length,num_features)\n",
    "    print('Model: input size {}, output size {}'.format(model.input_shape, model.output_shape))\n",
    "\n",
    "    path_checkpoint = path+'model/'+'mybest_model.h5'\n",
    "    es_callback = EarlyStopping(monitor=\"val_rmse\",mode='min', patience=50)\n",
    "    modelckpt_callback = ModelCheckpoint(monitor=\"val_rmse\",filepath=path_checkpoint,verbose=1,save_weights_only=True,save_best_only=True,mode='min')\n",
    "    \n",
    "    validation_set = (val_seqs,val_targets)\n",
    "    history = model.fit(train_seqs,train_targets,validation_data = validation_set,\n",
    "                        epochs=num_epochs, batch_size=batch_size,verbose=1,\n",
    "                        callbacks=[es_callback, modelckpt_callback])   \n",
    "    history = history.history\n",
    "    return history, model"
   ]
  },
  {
   "cell_type": "code",
   "execution_count": 2,
   "id": "0f21c165",
   "metadata": {},
   "outputs": [],
   "source": [
    "conv1 = Conv1D(filters=32, kernel_size=2, \n",
    "                dilation_rate=1, \n",
    "                activation='linear', padding='causal', use_bias=False,\n",
    "                kernel_initializer=TruncatedNormal(mean=0.0, stddev=0.05, \n",
    "                seed=42), kernel_regularizer=l2(0.001))"
   ]
  },
  {
   "cell_type": "code",
   "execution_count": 3,
   "id": "589bc70d",
   "metadata": {},
   "outputs": [
    {
     "name": "stdout",
     "output_type": "stream",
     "text": [
      "tf.Tensor(\n",
      "[[[0.29474843 0.20440185 0.92647827 0.50443614 0.81025016 0.6354084\n",
      "   0.5656383 ]\n",
      "  [0.1691662  0.45696235 0.02349174 0.05894935 0.23700058 0.7668153\n",
      "   0.6083363 ]\n",
      "  [0.8155527  0.491179   0.13215053 0.9824059  0.49891913 0.93679357\n",
      "   0.16109443]\n",
      "  [0.9108881  0.9186382  0.7215165  0.02761078 0.5015073  0.1631118\n",
      "   0.1743511 ]\n",
      "  [0.18427217 0.2595849  0.57357    0.4241433  0.94633067 0.60525894\n",
      "   0.42312884]\n",
      "  [0.91149366 0.12254357 0.3543806  0.8583298  0.08962643 0.8000027\n",
      "   0.14847088]]], shape=(1, 6, 7), dtype=float32)\n"
     ]
    },
    {
     "name": "stderr",
     "output_type": "stream",
     "text": [
      "2022-05-19 18:27:37.666190: I tensorflow/compiler/jit/xla_cpu_device.cc:41] Not creating XLA devices, tf_xla_enable_xla_devices not set\n",
      "2022-05-19 18:27:37.668469: I tensorflow/stream_executor/platform/default/dso_loader.cc:49] Successfully opened dynamic library libcuda.so.1\n",
      "2022-05-19 18:27:37.732378: I tensorflow/stream_executor/cuda/cuda_gpu_executor.cc:941] successful NUMA node read from SysFS had negative value (-1), but there must be at least one NUMA node, so returning NUMA node zero\n",
      "2022-05-19 18:27:37.733347: I tensorflow/core/common_runtime/gpu/gpu_device.cc:1720] Found device 0 with properties: \n",
      "pciBusID: 0000:01:00.0 name: NVIDIA GeForce GTX 1060 with Max-Q Design computeCapability: 6.1\n",
      "coreClock: 1.48GHz coreCount: 10 deviceMemorySize: 5.94GiB deviceMemoryBandwidth: 178.99GiB/s\n",
      "2022-05-19 18:27:37.733440: I tensorflow/stream_executor/platform/default/dso_loader.cc:49] Successfully opened dynamic library libcudart.so.11.0\n",
      "2022-05-19 18:27:37.741305: I tensorflow/stream_executor/platform/default/dso_loader.cc:49] Successfully opened dynamic library libcublas.so.11\n",
      "2022-05-19 18:27:37.741506: I tensorflow/stream_executor/platform/default/dso_loader.cc:49] Successfully opened dynamic library libcublasLt.so.11\n",
      "2022-05-19 18:27:37.744253: I tensorflow/stream_executor/platform/default/dso_loader.cc:49] Successfully opened dynamic library libcufft.so.10\n",
      "2022-05-19 18:27:37.744964: I tensorflow/stream_executor/platform/default/dso_loader.cc:49] Successfully opened dynamic library libcurand.so.10\n",
      "2022-05-19 18:27:37.745207: W tensorflow/stream_executor/platform/default/dso_loader.cc:60] Could not load dynamic library 'libcusolver.so.10'; dlerror: libcusolver.so.10: cannot open shared object file: No such file or directory\n",
      "2022-05-19 18:27:37.747165: I tensorflow/stream_executor/platform/default/dso_loader.cc:49] Successfully opened dynamic library libcusparse.so.11\n",
      "2022-05-19 18:27:37.747416: W tensorflow/stream_executor/platform/default/dso_loader.cc:60] Could not load dynamic library 'libcudnn.so.8'; dlerror: libcudnn.so.8: cannot open shared object file: No such file or directory\n",
      "2022-05-19 18:27:37.747442: W tensorflow/core/common_runtime/gpu/gpu_device.cc:1757] Cannot dlopen some GPU libraries. Please make sure the missing libraries mentioned above are installed properly if you would like to use GPU. Follow the guide at https://www.tensorflow.org/install/gpu for how to download and setup the required libraries for your platform.\n",
      "Skipping registering GPU devices...\n",
      "2022-05-19 18:27:37.749036: I tensorflow/core/platform/cpu_feature_guard.cc:142] This TensorFlow binary is optimized with oneAPI Deep Neural Network Library (oneDNN) to use the following CPU instructions in performance-critical operations:  AVX2 FMA\n",
      "To enable them in other operations, rebuild TensorFlow with the appropriate compiler flags.\n",
      "2022-05-19 18:27:37.750395: I tensorflow/compiler/jit/xla_gpu_device.cc:99] Not creating XLA devices, tf_xla_enable_xla_devices not set\n",
      "2022-05-19 18:27:37.750458: I tensorflow/core/common_runtime/gpu/gpu_device.cc:1261] Device interconnect StreamExecutor with strength 1 edge matrix:\n",
      "2022-05-19 18:27:37.750476: I tensorflow/core/common_runtime/gpu/gpu_device.cc:1267]      \n"
     ]
    }
   ],
   "source": [
    "tensor = tf.random.uniform([1,6,7]) #[batch_size,input_seqlength,num_features]\n",
    "print(tensor)"
   ]
  },
  {
   "cell_type": "code",
   "execution_count": 4,
   "id": "d532398a",
   "metadata": {},
   "outputs": [
    {
     "data": {
      "text/plain": [
       "TensorShape([1, 6, 32])"
      ]
     },
     "execution_count": 4,
     "metadata": {},
     "output_type": "execute_result"
    }
   ],
   "source": [
    "conv1(tensor).shape"
   ]
  }
 ],
 "metadata": {
  "kernelspec": {
   "display_name": "Python 3",
   "language": "python",
   "name": "python3"
  },
  "language_info": {
   "codemirror_mode": {
    "name": "ipython",
    "version": 3
   },
   "file_extension": ".py",
   "mimetype": "text/x-python",
   "name": "python",
   "nbconvert_exporter": "python",
   "pygments_lexer": "ipython3",
   "version": "3.8.10"
  }
 },
 "nbformat": 4,
 "nbformat_minor": 5
}
