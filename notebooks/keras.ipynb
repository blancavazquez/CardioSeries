{
 "cells": [
  {
   "cell_type": "code",
   "execution_count": 1,
   "id": "df4d821d",
   "metadata": {},
   "outputs": [
    {
     "name": "stderr",
     "output_type": "stream",
     "text": [
      "2022-05-24 07:16:02.401204: I tensorflow/stream_executor/platform/default/dso_loader.cc:49] Successfully opened dynamic library libcudart.so.11.0\n"
     ]
    }
   ],
   "source": [
    "#https://github.com/kristpapadopoulos/seriesnet/blob/master/seriesnet.py\n",
    "\n",
    "import os\n",
    "import numpy as np\n",
    "import pandas as pd\n",
    "from tslearn.metrics import dtw, dtw_path\n",
    "\n",
    "import tensorflow as tf\n",
    "from tensorflow import keras\n",
    "\n",
    "#from keras import backend\n",
    "from tensorflow.keras import optimizers\n",
    "from tensorflow.keras.regularizers import l2\n",
    "from tensorflow.keras.models import Sequential\n",
    "from tensorflow.keras.initializers import TruncatedNormal\n",
    "from tensorflow.keras.callbacks import EarlyStopping, ModelCheckpoint\n",
    "from tensorflow.keras.layers import Conv1D, Input, Add, Activation, Dropout,Reshape\n",
    "\n",
    "def DC_CNN_Block(nb_filter, filter_length, dilation, l2_layer_reg,num_features):\n",
    "    def f(input_):\n",
    "        residual= input_ #(?, 6, 7)\n",
    "        \n",
    "        #(?, 6, 7) => (?, 6, 32)\n",
    "        layer_out =   Conv1D(filters=nb_filter, kernel_size=filter_length, \n",
    "                      dilation_rate=dilation, \n",
    "                      activation='linear', padding='causal', use_bias=False,\n",
    "                      kernel_initializer=TruncatedNormal(mean=0.0, stddev=0.05, \n",
    "                      seed=42), kernel_regularizer=l2(l2_layer_reg))(input_)\n",
    "\n",
    "        print(\"causal:\", layer_out.shape)\n",
    "        #(?, 6, 32)            \n",
    "        layer_out =   Activation('selu')(layer_out)\n",
    "\n",
    "        #(?, 6, 32) => (?, 6, 7)\n",
    "        skip_out =    Conv1D(num_features,1, activation='linear', use_bias=False, \n",
    "                      kernel_initializer=TruncatedNormal(mean=0.0, stddev=0.05, \n",
    "                      seed=42), kernel_regularizer=l2(l2_layer_reg))(layer_out)\n",
    "        \n",
    "        #(?, 6, 7) => (?, 6, 7) \n",
    "        network_in =  Conv1D(num_features,1, activation='linear', use_bias=False, \n",
    "                      kernel_initializer=TruncatedNormal(mean=0.0, stddev=0.05, \n",
    "                      seed=42), kernel_regularizer=l2(l2_layer_reg))(layer_out)\n",
    "\n",
    "        # (?, 6, 7), (?, 6, 7) => (?, 6, 7)\n",
    "        network_out = Add()([residual, network_in])\n",
    "        print(\"network_out:\",network_out.shape)\n",
    "        return network_out, skip_out #(?, 6, 7) skip_out: (?, 6, 7)\n",
    "    \n",
    "    return f\n",
    "\n",
    "def DC_CNN_Model(input_seq_length,num_features): #length [6], num_features[7]\n",
    "    \n",
    "    print(\"input_seq_length:\", input_seq_length)\n",
    "    print(\"num_features:\", num_features)\n",
    "\n",
    "    input = Input(shape=(input_seq_length,num_features))\n",
    "    l1a, l1b = DC_CNN_Block(32,2,1,0.001,num_features)(input)   #listo\n",
    "    l2a, l2b = DC_CNN_Block(32,2,2,0.001,num_features)(l1a)\n",
    "    l3a, l3b = DC_CNN_Block(32,2,4,0.001,num_features)(l2a)\n",
    "    l4a, l4b = DC_CNN_Block(32,2,8,0.001,num_features)(l3a)\n",
    "    l5a, l5b = DC_CNN_Block(32,2,16,0.001,num_features)(l4a)\n",
    "    l6a, l6b = DC_CNN_Block(32,2,32,0.001,num_features)(l5a)\n",
    "    l6b = Dropout(0.8)(l6b) #dropout used to limit influence of earlier data\n",
    "    l7a, l7b = DC_CNN_Block(32,2,64,0.001,num_features)(l6a)\n",
    "    l7b = Dropout(0.8)(l7b) #dropout used to limit influence of earlier data\n",
    "    l8 =   Add()([l1b, l2b, l3b, l4b, l5b, l6b, l7b])\n",
    "    l9 =   Activation('relu')(l8)\n",
    "\n",
    "    print(\"l9:\",l9.shape) #[?,9,7]\n",
    "    \n",
    "    kernel_size = 7 if input_seq_length ==9 else 1\n",
    "    l21 =  Conv1D(num_features,kernel_size, activation='linear', use_bias=False, \n",
    "           kernel_initializer=TruncatedNormal(mean=0.0, stddev=0.05, seed=42),\n",
    "           kernel_regularizer=l2(0.001))(l9)\n",
    "\n",
    "    print(\"l21:\",l21.shape) #[?,9,7]\n",
    "\n",
    "    model = keras.Model(inputs=input, outputs=l21)\n",
    "    adam = optimizers.Adam(lr=0.00075,beta_1=0.9, beta_2=0.999,decay=0.0,)\n",
    "    model.compile(loss=rmse,optimizer=adam,metrics=[rmse,'mae'])\n",
    "\n",
    "    return model\n",
    "\n",
    "def forecasting_dcnn(train_seqs,train_targets,val_seqs,val_targets,\n",
    "                     input_seq_length,output_seq_length,num_features,\n",
    "                     num_epochs,batch_size,path):\n",
    "\n",
    "    model = DC_CNN_Model(input_seq_length,num_features)\n",
    "    print('Model: input size {}, output size {}'.format(model.input_shape, model.output_shape))\n",
    "\n",
    "    path_checkpoint = path+'model/'+'mybest_model.h5'\n",
    "    es_callback = EarlyStopping(monitor=\"val_rmse\",mode='min', patience=50)\n",
    "    modelckpt_callback = ModelCheckpoint(monitor=\"val_rmse\",filepath=path_checkpoint,verbose=1,save_weights_only=True,save_best_only=True,mode='min')\n",
    "    \n",
    "    validation_set = (val_seqs,val_targets)\n",
    "    history = model.fit(train_seqs,train_targets,validation_data = validation_set,\n",
    "                        epochs=num_epochs, batch_size=batch_size,verbose=1,\n",
    "                        callbacks=[es_callback, modelckpt_callback])   \n",
    "    history = history.history\n",
    "    return history, model"
   ]
  },
  {
   "cell_type": "code",
   "execution_count": 2,
   "id": "0f21c165",
   "metadata": {},
   "outputs": [],
   "source": [
    "conv1 = Conv1D(filters=32, kernel_size=2, \n",
    "                dilation_rate=1, \n",
    "                activation='linear', padding='causal', use_bias=False,\n",
    "                kernel_initializer=TruncatedNormal(mean=0.0, stddev=0.05, \n",
    "                seed=42), kernel_regularizer=l2(0.001))"
   ]
  },
  {
   "cell_type": "code",
   "execution_count": 4,
   "id": "589bc70d",
   "metadata": {},
   "outputs": [],
   "source": [
    "tensor = tf.random.uniform([1,6,7]) #[batch_size,input_seqlength,num_features]"
   ]
  },
  {
   "cell_type": "code",
   "execution_count": 5,
   "id": "d532398a",
   "metadata": {},
   "outputs": [
    {
     "data": {
      "text/plain": [
       "TensorShape([1, 6, 32])"
      ]
     },
     "execution_count": 5,
     "metadata": {},
     "output_type": "execute_result"
    }
   ],
   "source": [
    "conv1(tensor).shape"
   ]
  }
 ],
 "metadata": {
  "kernelspec": {
   "display_name": "Python 3",
   "language": "python",
   "name": "python3"
  },
  "language_info": {
   "codemirror_mode": {
    "name": "ipython",
    "version": 3
   },
   "file_extension": ".py",
   "mimetype": "text/x-python",
   "name": "python",
   "nbconvert_exporter": "python",
   "pygments_lexer": "ipython3",
   "version": "3.8.10"
  }
 },
 "nbformat": 4,
 "nbformat_minor": 5
}
